{
 "cells": [
  {
   "cell_type": "code",
   "execution_count": 1,
   "metadata": {},
   "outputs": [
    {
     "name": "stdout",
     "output_type": "stream",
     "text": [
      "a b R 을 입력해주세요 : 20 10 10\n",
      "N 을 입력해주세요 : 3\n",
      "x_1, y_1 를 입력해주세요 : 25 10\n",
      "x_2, y_2 를 입력해주세요 : 20 15\n",
      "x_3, y_3 를 입력해주세요 : 70 70\n",
      "noisy\n",
      "noisy\n",
      "silent\n"
     ]
    }
   ],
   "source": [
    "## (x-a)**2+(y-b)** >= R**2\n",
    "\n",
    "a, b, R = map(int, input(\"a b R 을 입력해주세요 : \").split())\n",
    "N = int(input(\"N 을 입력해주세요 : \"))\n",
    "x_i = []\n",
    "y_i = []\n",
    "for i in range(1,N+1):\n",
    "    x, y = input(\"x_\"+str(i)+\", y_\"+str(i)+\" 를 입력해주세요 : \").split()\n",
    "    x_i.append(int(x))\n",
    "    y_i.append(int(y))\n",
    "    \n",
    "for i in range(0,N):\n",
    "    if ((x_i[i]-a)**2 + (y_i[i]-b)**2) >= R**2:\n",
    "        print(\"silent\")\n",
    "    else:\n",
    "        print(\"noisy\")"
   ]
  },
  {
   "cell_type": "code",
   "execution_count": 3,
   "metadata": {},
   "outputs": [
    {
     "name": "stdout",
     "output_type": "stream",
     "text": [
      "a b R 을 입력해주세요 : 20 10 10\n",
      "N 을 입력해주세요 : 3\n",
      "x, y 를 입력해주세요 : 25 10\n",
      "noisy\n",
      "x, y 를 입력해주세요 : 20 15\n",
      "noisy\n",
      "x, y 를 입력해주세요 : 70 70\n",
      "silent\n"
     ]
    }
   ],
   "source": [
    "## (x-a)**2+(y-b)** >= R**2\n",
    "\n",
    "def check_sound_status(a,b,r,x,y):\n",
    "    if ((x-a)**2 + (y-b)**2) >= r**2:\n",
    "        return \"silent\"\n",
    "    return \"noisy\"\n",
    "\n",
    "a, b, R = map(int, input(\"a b R 을 입력해주세요 : \").split())\n",
    "N = int(input(\"N 을 입력해주세요 : \"))\n",
    "for _ in range(N):\n",
    "    x, y = map(int, input(\"x, y 를 입력해주세요 : \").split())\n",
    "    print(check_sound_status(a,b,R,x,y))"
   ]
  },
  {
   "cell_type": "code",
   "execution_count": 4,
   "metadata": {},
   "outputs": [
    {
     "name": "stdout",
     "output_type": "stream",
     "text": [
      "100\n",
      "[1, 2, 4, 5, 10, 20, 25, 50, 100]\n"
     ]
    }
   ],
   "source": [
    "n = int(input())\n",
    "out = []\n",
    "for i in range(1,n+1):\n",
    "    if n % i == 0:\n",
    "        out.append(i)\n",
    "        \n",
    "print(out)"
   ]
  },
  {
   "cell_type": "code",
   "execution_count": 12,
   "metadata": {
    "tags": []
   },
   "outputs": [
    {
     "name": "stdout",
     "output_type": "stream",
     "text": [
      "100\n",
      "[1, 2, 4, 5, 10]\n",
      "[1, 2, 4, 5, 10, 20, 25, 50, 100]\n"
     ]
    }
   ],
   "source": [
    "n = int(input())\n",
    "sqrt_n =int(n**(1/2))\n",
    "arr_out1 = []\n",
    "arr_out2 = []\n",
    "\n",
    "for i in range(1,sqrt_n+1):\n",
    "    if n % i == 0:\n",
    "        arr_out1.append(i)\n",
    "        if i != sqrt_n:\n",
    "            arr_out2.append(int(n/i))\n",
    "\n",
    "print(arr_out1)\n",
    "print(arr_out1 + arr_out2[::-1])"
   ]
  },
  {
   "cell_type": "code",
   "execution_count": 13,
   "metadata": {},
   "outputs": [
    {
     "name": "stdout",
     "output_type": "stream",
     "text": [
      "1 2 100 3 30\n",
      "100 1\n"
     ]
    }
   ],
   "source": [
    "list_num = list(map(int, input().split()))\n",
    "\n",
    "max_num = list_num[0]\n",
    "min_num = list_num[0]\n",
    "\n",
    "for num in list_num:\n",
    "    if max_num < num:\n",
    "        max_num = num\n",
    "        \n",
    "    if min_num > num:\n",
    "        min_num = num\n",
    "\n",
    "print(max_num, min_num)"
   ]
  }
 ],
 "metadata": {
  "kernelspec": {
   "display_name": "Python 3",
   "language": "python",
   "name": "python3"
  },
  "language_info": {
   "codemirror_mode": {
    "name": "ipython",
    "version": 3
   },
   "file_extension": ".py",
   "mimetype": "text/x-python",
   "name": "python",
   "nbconvert_exporter": "python",
   "pygments_lexer": "ipython3",
   "version": "3.7.6"
  }
 },
 "nbformat": 4,
 "nbformat_minor": 4
}
